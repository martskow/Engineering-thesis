{
  "nbformat": 4,
  "nbformat_minor": 0,
  "metadata": {
    "colab": {
      "provenance": [],
      "include_colab_link": true
    },
    "kernelspec": {
      "name": "python3",
      "display_name": "Python 3"
    },
    "language_info": {
      "name": "python"
    }
  },
  "cells": [
    {
      "cell_type": "markdown",
      "metadata": {
        "id": "view-in-github",
        "colab_type": "text"
      },
      "source": [
        "<a href=\"https://colab.research.google.com/github/martskow/Engineering-thesis/blob/main/Dane.ipynb\" target=\"_parent\"><img src=\"https://colab.research.google.com/assets/colab-badge.svg\" alt=\"Open In Colab\"/></a>"
      ]
    },
    {
      "cell_type": "markdown",
      "source": [
        "Marta Skowron\n",
        "# Przygotowanie danych pod kątem pracy inżynierszkiej / Preparing data for engineering thesis\n",
        "\"Projektowanie peptydów amyloidogennych z wykorzystaniem sieci neuronowych\"\n",
        "\n",
        "\"Design of amyloidogenic peptides using neural networks\""
      ],
      "metadata": {
        "id": "jirZBogQXSQu"
      }
    },
    {
      "cell_type": "markdown",
      "source": [
        "### Importy / Imports"
      ],
      "metadata": {
        "id": "BWtipYxxYXFm"
      }
    },
    {
      "cell_type": "code",
      "source": [
        "#!pip install biopython\n",
        "from Bio.Seq import Seq\n",
        "from Bio.SeqUtils.IsoelectricPoint import IsoelectricPoint as IEP\n",
        "from Bio.SeqUtils.ProtParam import ProteinAnalysis\n",
        "from Bio.SeqUtils import ProtParam\n",
        "import pandas as pd\n",
        "import numpy as np\n",
        "\n",
        "import requests\n",
        "from urllib.parse import quote\n",
        "from bs4 import BeautifulSoup"
      ],
      "metadata": {
        "id": "3Es_xIBoc2eZ"
      },
      "execution_count": null,
      "outputs": []
    },
    {
      "cell_type": "markdown",
      "source": [
        "Załadowanie odpowiednich kolumn z plików oraz przetworzenie ich / Loading the appropriate columns from files and processing them:\n",
        "\n",
        "\n",
        "*   '/41598_2015_BFsrep12494_MOESM2_ESM.xls'\n",
        "*   '/1-s2.0-S0022283620305805-mmc11.xlsx'\n",
        "\n"
      ],
      "metadata": {
        "id": "EapXRKBHdRbN"
      }
    },
    {
      "cell_type": "code",
      "source": [
        "from google.colab import drive\n",
        "drive.mount('/content/drive')"
      ],
      "metadata": {
        "colab": {
          "base_uri": "https://localhost:8080/"
        },
        "id": "dn12U-4uJKTC",
        "outputId": "931b00ba-5797-4062-be7f-228d0ea43415"
      },
      "execution_count": null,
      "outputs": [
        {
          "output_type": "stream",
          "name": "stdout",
          "text": [
            "Mounted at /content/drive\n"
          ]
        }
      ]
    },
    {
      "cell_type": "code",
      "source": [
        "file_xls = '/content/drive/MyDrive/Colab Notebooks/41598_2015_BFsrep12494_MOESM2_ESM.xls'\n",
        "xls_data = pd.read_excel(file_xls, engine='xlrd')\n",
        "\n",
        "# Columns E, J, N with the characters ' ' and '-' removed\n",
        "col_e = xls_data.iloc[:, 4].dropna().astype(str).str.replace('[- ]', '', regex=True).str.upper()\n",
        "col_j = xls_data.iloc[:, 9].dropna().astype(str).str.replace('[- ]', '', regex=True).str.upper()\n",
        "col_n = xls_data.iloc[:, 13].dropna().astype(str).str.replace('[- ]', '', regex=True).str.upper()\n",
        "\n",
        "combined_column = pd.concat([col_e, col_j, col_n], ignore_index=True)\n",
        "\n",
        "df_combined = pd.DataFrame({\n",
        "    'sequence': combined_column\n",
        "})\n",
        "\n",
        "# Assigning an id to each row\n",
        "df_combined['id'] = range(1, len(df_combined) + 1)"
      ],
      "metadata": {
        "id": "o6CoPX2dfddh"
      },
      "execution_count": null,
      "outputs": []
    },
    {
      "cell_type": "code",
      "source": [
        "file_xlsx = '/content/drive/MyDrive/Colab Notebooks/1-s2.0-S0022283620305805-mmc11.xlsx'\n",
        "df = pd.read_excel(file_xlsx)\n",
        "\n",
        "# Row selection (range 4-300 and 305-353)\n",
        "df_selected = pd.concat([df.iloc[3:300], df.iloc[304:353]]).reset_index(drop=True)\n",
        "\n",
        "# Columns I and J from XLSX file with id\n",
        "col_c = df_selected.iloc[:, 2].dropna().astype(str)  # column C (ID dla I)\n",
        "col_f = df_selected.iloc[:, 5].dropna().astype(str)  # column F (ID dla J_2)\n",
        "\n",
        "col_i = df_selected.iloc[:, 8].dropna().astype(str).str.replace('[- ]', '', regex=True).str.upper()  # ccolumn I\n",
        "col_j_2 = df_selected.iloc[:, 9].dropna().astype(str).str.replace('[- ]', '', regex=True).str.upper() # column J\n",
        "\n",
        "# Checking if the length of the id column matches the length of the sequence column\n",
        "if len(col_c) == len(col_i):\n",
        "    df_i = pd.DataFrame({'id': col_c, 'sequence': col_i})\n",
        "else:\n",
        "    raise ValueError(\"Kolumny C i I mają różne długości!\")\n",
        "\n",
        "if len(col_f) == len(col_j_2):\n",
        "    df_j_2 = pd.DataFrame({'id': col_f, 'sequence': col_j_2})\n",
        "else:\n",
        "    raise ValueError(\"Kolumny F i J_2 mają różne długości!\")"
      ],
      "metadata": {
        "id": "TrMZDxeCgcEy"
      },
      "execution_count": null,
      "outputs": []
    },
    {
      "cell_type": "code",
      "source": [
        "df_result = pd.concat([df_i, df_j_2, df_combined], ignore_index=True)\n",
        "print(df_result)"
      ],
      "metadata": {
        "colab": {
          "base_uri": "https://localhost:8080/"
        },
        "id": "lvsqqT9FhqCg",
        "outputId": "315047d9-2987-4d34-dc99-8c0784341c2f"
      },
      "execution_count": null,
      "outputs": [
        {
          "output_type": "stream",
          "name": "stdout",
          "text": [
            "              id                     sequence\n",
            "0     CAB66307.1  RHVHLRARASGSARIYQAGRDQHITER\n",
            "1     KKD13728.1  RHVHLRARASGSARIYQAGRDQHITER\n",
            "2     PSK58951.1  RHVHLRARASGSARIYQAGRDQHITER\n",
            "3     SDT45679.1  RHVHLRARASGSARIYQAGRDQHITER\n",
            "4     ANJ07606.1  RDVHLRARASGSARIYQAGRDQHITER\n",
            "...          ...                          ...\n",
            "1091         404        VSNAVGDLRIEGHGRAHVGNI\n",
            "1092         405        HTVTYTGNRAEGNSTNHYGHN\n",
            "1093         406        TMLSVFLTFELERLFAVTGDQ\n",
            "1094         407         TGHRYLGTTIHGRGHHLGDH\n",
            "1095         408        HHQHTSGVSTQNHSQAFVGSA\n",
            "\n",
            "[1096 rows x 2 columns]\n"
          ]
        }
      ]
    },
    {
      "cell_type": "markdown",
      "source": [
        "### Obliczenie własności peptydów / Calculation of peptide properties"
      ],
      "metadata": {
        "id": "7x8jzJDJh4P-"
      }
    },
    {
      "cell_type": "markdown",
      "source": [
        "#### Punkt izoelektryczny / Isoelectric point"
      ],
      "metadata": {
        "id": "aOFl0kLpk8Rh"
      }
    },
    {
      "cell_type": "code",
      "source": [
        "def calculate_isoelectric_point(sequence):\n",
        "    \"\"\"\n",
        "    Calculate the isoelectric point (pI) of a given peptide sequence.\n",
        "\n",
        "    Args:\n",
        "      sequence (str): A string representing the peptide sequence, consisting\n",
        "                    of standard amino acid symbols.\n",
        "\n",
        "    Returns:\n",
        "      float: The calculated isoelectric point (pI) of the peptide.\n",
        "    \"\"\"\n",
        "    seq = Seq(sequence)\n",
        "    analyzer = IEP(seq)\n",
        "    return analyzer.pi()\n",
        "\n",
        "df_result['isoelectric_point'] = df_result['sequence'].apply(calculate_isoelectric_point)"
      ],
      "metadata": {
        "id": "7za-zy8-k-24"
      },
      "execution_count": null,
      "outputs": []
    },
    {
      "cell_type": "markdown",
      "source": [
        "#### Peptide charge vector for pH 4 to 9"
      ],
      "metadata": {
        "id": "jMPVM5hFlYt8"
      }
    },
    {
      "cell_type": "code",
      "source": [
        "def calculate_charge_vector(sequence):\n",
        "    \"\"\"\n",
        "    Calculates the charge vector of a protein sequence over a pH range from 4 to 9.\n",
        "\n",
        "    Args:\n",
        "        sequence (str): The amino acid sequence of the protein.\n",
        "\n",
        "    Returns:\n",
        "        list: A list containing the net charge of the sequence at pH values from 4 to 9.\n",
        "    \"\"\"\n",
        "    seq = Seq(sequence)\n",
        "    analyzer = IEP(seq)\n",
        "    charge_vector = [analyzer.charge_at_pH(pH) for pH in range(4, 10)]  # pH from 4 to 9\n",
        "    return charge_vector\n",
        "\n",
        "df_result['charge_vector'] = df_result['sequence'].apply(calculate_charge_vector)"
      ],
      "metadata": {
        "id": "mk32wdmvlvEe"
      },
      "execution_count": null,
      "outputs": []
    },
    {
      "cell_type": "markdown",
      "source": [
        "#### Podział sekwencji na 5 fragmentów / Splitting the sequence into 5 fragments"
      ],
      "metadata": {
        "id": "7hjlqLd3mW9M"
      }
    },
    {
      "cell_type": "code",
      "source": [
        "def split_sequence(sequence):\n",
        "    \"\"\"\n",
        "    Splits a given sequence into 5 fragments, ensuring an even distribution of characters.\n",
        "\n",
        "    This function divides the input sequence into 5 fragments. If the sequence length is not\n",
        "    perfectly divisible by 5, the N-terminus (first fragment) and C-terminus (last fragment)\n",
        "    will contain one additional character until the remainder is distributed. The middle fragments\n",
        "    will adjust accordingly to ensure an even split.\n",
        "\n",
        "    Args:\n",
        "        sequence (str): The input sequence (e.g., a protein or nucleotide sequence).\n",
        "\n",
        "    Returns:\n",
        "        list: A list of 5 fragments where each fragment contains a portion of the sequence.\n",
        "    \"\"\"\n",
        "    length = len(sequence)\n",
        "    fragment_size = length // 5\n",
        "    remainder = length % 5\n",
        "\n",
        "    fragments = [\n",
        "        sequence[:fragment_size + (1 if remainder > 0 else 0)],  # N-terminus\n",
        "        sequence[fragment_size + (1 if remainder > 0 else 0):2*fragment_size + (1 if remainder > 1 else 0)],  # Middle 1\n",
        "        sequence[2*fragment_size + (1 if remainder > 1 else 0):3*fragment_size + (1 if remainder > 2 else 0)],  # Middle 2\n",
        "        sequence[3*fragment_size + (1 if remainder > 2 else 0):4*fragment_size + (1 if remainder > 3 else 0)],  # Middle 3\n",
        "        sequence[4*fragment_size + (1 if remainder > 3 else 0):]  # C-terminus\n",
        "    ]\n",
        "\n",
        "    return fragments"
      ],
      "metadata": {
        "id": "rhkmhUB1mWVo"
      },
      "execution_count": null,
      "outputs": []
    },
    {
      "cell_type": "markdown",
      "source": [
        "#### Macierz ładunków peptydu po jego podzieleniu na 5 fragmentów dla pH od 4 do 9 / Charge matrix of the peptide after its division into 5 fragments for pH 4 to 9"
      ],
      "metadata": {
        "id": "IdWbWyeOvNBz"
      }
    },
    {
      "cell_type": "code",
      "source": [
        "def calculate_charge_matrix(sequence):\n",
        "    \"\"\"\n",
        "    Calculates a charge matrix for a protein sequence by dividing it into 5 fragments and determining the charge\n",
        "    of each fragment across a pH range from 4 to 9.\n",
        "\n",
        "    This function splits the input sequence into 5 equal or nearly equal fragments using the split_sequence() function.\n",
        "    For each fragment, it calculates the net charge at six different pH values (from pH 4 to 9). The result is a 5x6 matrix,\n",
        "    where each row represents a fragment, and each column represents the charge at a specific pH value.\n",
        "\n",
        "    Args:\n",
        "        sequence (str): The amino acid sequence of the protein.\n",
        "\n",
        "    Returns:\n",
        "        list: A 2D list (matrix) where each sublist contains the net charges of one fragment at pH values 4 to 9.\n",
        "              The matrix will have 5 rows (for the 5 fragments) and 6 columns (for the 6 pH values).\n",
        "    \"\"\"\n",
        "    seq_fragments = split_sequence(sequence)  # Split the sequence into 5 fragments\n",
        "    charge_matrix = []\n",
        "\n",
        "    for fragment in seq_fragments:\n",
        "        seq = Seq(fragment)\n",
        "        analyzer = IEP(seq)\n",
        "        # Calculate charges at pH from 4 to 9\n",
        "        charges = [analyzer.charge_at_pH(pH) for pH in range(4, 10)]\n",
        "        charge_matrix.append(charges)\n",
        "\n",
        "    return charge_matrix  # Returns a 5x6 matrix (5 fragments and 6 pH values)\n",
        "\n",
        "df_result['charge_matrix'] = df_result['sequence'].apply(calculate_charge_matrix)"
      ],
      "metadata": {
        "id": "iGGJaTFyvPGB"
      },
      "execution_count": null,
      "outputs": []
    },
    {
      "cell_type": "markdown",
      "source": [
        "#### Udział elementów drugiej struktury peptydu / Contribution of elements of the second peptide structure"
      ],
      "metadata": {
        "id": "UykGFM-EvnkJ"
      }
    },
    {
      "cell_type": "code",
      "source": [
        "def calculate_secondary_structure_fractions(sequence):\n",
        "    \"\"\"\n",
        "    Calculates the fractions of secondary structure elements (helix, turn, and sheet) for a given protein sequence.\n",
        "\n",
        "    This function takes a protein sequence as input and uses the ProteinAnalysis module to compute the estimated\n",
        "    proportions of three secondary structure elements: alpha helix, beta turn, and beta sheet. The result is a\n",
        "    tuple containing the fraction of each structure type in the sequence.\n",
        "\n",
        "    Args:\n",
        "        sequence (str): The amino acid sequence of the protein.\n",
        "\n",
        "    Returns:\n",
        "        tuple: A tuple with three values representing the fraction of the sequence predicted to form:\n",
        "               - Helix (alpha helix)\n",
        "               - Turn (beta turn)\n",
        "               - Sheet (beta sheet)\n",
        "    \"\"\"\n",
        "    prot_analysis = ProteinAnalysis(sequence)\n",
        "    return prot_analysis.secondary_structure_fraction()  # Returns (Helix, Turn, Sheet)\n",
        "\n",
        "df_result['secondary_structure'] = df_result['sequence'].apply(calculate_secondary_structure_fractions)"
      ],
      "metadata": {
        "id": "URWcwqwAvoB7"
      },
      "execution_count": null,
      "outputs": []
    },
    {
      "cell_type": "markdown",
      "source": [
        "#### Hydrofobowość / Hydrophobicity"
      ],
      "metadata": {
        "id": "W7LUEv8lvogE"
      }
    },
    {
      "cell_type": "code",
      "source": [
        "def calculate_hydrophobicity(sequence):\n",
        "    \"\"\"\n",
        "    Calculates the hydrophobicity (GRAVY - Grand Average of Hydropathy) of a given protein sequence.\n",
        "\n",
        "    The GRAVY score indicates the average hydrophobicity or hydrophilicity of the amino acids in the\n",
        "    sequence. Positive values indicate hydrophobicity, while negative values indicate hydrophilicity.\n",
        "\n",
        "    Args:\n",
        "        sequence (str): The amino acid sequence of the protein.\n",
        "\n",
        "    Returns:\n",
        "        float: The GRAVY (Grand Average of Hydropathy) value for the sequence, representing the average hydrophobicity.\n",
        "    \"\"\"\n",
        "    prot_analysis = ProtParam.ProteinAnalysis(sequence)\n",
        "    return prot_analysis.gravy()  # Returns the GRAVY score (average hydrophobicity)\n",
        "\n",
        "df_result['hydrophobicity'] = df_result['sequence'].apply(calculate_hydrophobicity)"
      ],
      "metadata": {
        "id": "A0sjwMwyvpQC"
      },
      "execution_count": null,
      "outputs": []
    },
    {
      "cell_type": "markdown",
      "source": [
        "#### Vector of sequence hydrophobicity values ​​for 5 fragments"
      ],
      "metadata": {
        "id": "q-iGCGkrxRaq"
      }
    },
    {
      "cell_type": "code",
      "source": [
        "def calculate_hydrophobicity_vector(sequence):\n",
        "    \"\"\"\n",
        "    Calculates a hydrophobicity matrix by dividing a protein sequence into 5 fragments and determining the\n",
        "    hydrophobicity (GRAVY) for each fragment.\n",
        "\n",
        "    Args:\n",
        "        sequence (str): The amino acid sequence of the protein.\n",
        "\n",
        "    Returns:\n",
        "        list: A list of 5 GRAVY scores, where each score represents the hydrophobicity of one fragment.\n",
        "    \"\"\"\n",
        "    seq_fragments = split_sequence(sequence)  # Split the sequence into 5 fragments\n",
        "    hydrophobicity_vector = [calculate_hydrophobicity(fragment) for fragment in seq_fragments]\n",
        "    return hydrophobicity_vector\n",
        "\n",
        "df_result['hydrophobicity_vector'] = df_result['sequence'].apply(calculate_hydrophobicity_vector)"
      ],
      "metadata": {
        "id": "9yfqSpCoxRwz"
      },
      "execution_count": null,
      "outputs": []
    },
    {
      "cell_type": "markdown",
      "source": [
        "#### Przewidywanie „Hot-spotów” agregacji / Predicting Aggregation Hot Spots\n"
      ],
      "metadata": {
        "id": "kCj08B6AyQCk"
      }
    },
    {
      "cell_type": "code",
      "source": [
        "def format_fasta(sequence):\n",
        "    \"\"\"\n",
        "    Formats a given DNA or protein sequence into a simplified FASTA format.\n",
        "\n",
        "    Args:\n",
        "        sequence (str): The input sequence to be formatted.\n",
        "\n",
        "    Returns:\n",
        "        str: The sequence formatted in a simplified FASTA format,\n",
        "             including a header line \">sp|\" followed by the sequence itself.\n",
        "    \"\"\"\n",
        "    formatted_sequence = f\">sp|\\r\\n{sequence}\"\n",
        "    return formatted_sequence\n",
        "\n",
        "def submit_form_and_get_results(sequence):\n",
        "    \"\"\"\n",
        "    Submits a given sequence to a remote form via a POST request and retrieves the results.\n",
        "\n",
        "    Args:\n",
        "        sequence (str): The sequence to be submitted for analysis.\n",
        "\n",
        "    Returns:\n",
        "        str or None: The HTML response text from the server if the request is successful (status code 200),\n",
        "                     or None if there is an error with the request.\n",
        "    \"\"\"\n",
        "    form_url = 'http://bioinf.uab.es/cgi-bin/aap/aap_ov.pl'\n",
        "\n",
        "    fasta_data = format_fasta(sequence)\n",
        "\n",
        "    data = {\n",
        "        'sequence': fasta_data\n",
        "    }\n",
        "\n",
        "    response = requests.post(form_url, data=data)\n",
        "\n",
        "    if response.status_code == 200:\n",
        "        return response.text\n",
        "    else:\n",
        "        print(f\"Error sending form. Status code: {response.status_code}\")\n",
        "        return None\n",
        "\n",
        "def extract_hotspots_values(sequence):\n",
        "    \"\"\"\n",
        "    Extracts numerical hotspot values from the HTML response of a submitted sequence.\n",
        "\n",
        "    Args:\n",
        "        sequence (str): The sequence to be analyzed.\n",
        "\n",
        "    Returns:\n",
        "        list of float: A list of numerical values representing hotspot analysis results.\n",
        "                       A warning is printed if fewer than 9 values are found.\n",
        "                       Returns an empty list if no values are found or if the request fails.\n",
        "    \"\"\"\n",
        "    html_results = submit_form_and_get_results(sequence)\n",
        "    if html_results:\n",
        "        soup = BeautifulSoup(html_results, 'html.parser')\n",
        "\n",
        "        values = []\n",
        "        td_elements = soup.find_all('td', style=\"text-align: center; height: 27px;\")\n",
        "\n",
        "        for td in td_elements:\n",
        "            cell_text = td.get_text(strip=True)\n",
        "            try:\n",
        "                value = float(cell_text)\n",
        "                values.append(value)\n",
        "            except ValueError:\n",
        "            # Skip cells that do not contain numerical data\n",
        "                continue\n",
        "\n",
        "            # Stop after extracting 9 values (two columns contain identical results)\n",
        "            if len(values) == 9:\n",
        "                        break\n",
        "\n",
        "        if len(values) < 9:\n",
        "            print(\"Warning: Less than 9 values found.\")\n",
        "\n",
        "        return values\n",
        "\n",
        "#df_result['hot_spots_vector'] = df_result['sequence'].apply(extract_hotspots_values)\n",
        "#sequence = \"ATCGATCGATCG\"\n",
        "\n",
        "#results = extract_hotspots_values(sequence)"
      ],
      "metadata": {
        "id": "bBm-twqf5Cl8"
      },
      "execution_count": null,
      "outputs": []
    },
    {
      "cell_type": "code",
      "source": [
        "def clean_sequence(sequence):\n",
        "    \"\"\"\n",
        "    Removes unnecessary characters from a sequence.\n",
        "    \"\"\"\n",
        "    return sequence.strip()\n",
        "\n",
        "def submit_sequences(sequences):\n",
        "    \"\"\"\n",
        "    Sends formatted FASTA data to the server.\n",
        "    \"\"\"\n",
        "    form_url = 'http://bioinf.uab.es/cgi-bin/aap/aap_ov.pl'\n",
        "\n",
        "    fasta_data = \"\".join([f\">sp|sequence_{i + 1}\\r\\n{clean_sequence(seq)}\" for i, seq in enumerate(sequences)])\n",
        "\n",
        "    data = {\n",
        "        'sequence': fasta_data\n",
        "    }\n",
        "\n",
        "    response = requests.post(form_url, data=data)\n",
        "\n",
        "    if response.status_code == 200:\n",
        "        return response.text\n",
        "    else:\n",
        "        print(f\"Błąd podczas wysyłania danych. Kod statusu: {response.status_code}\")\n",
        "        print(\"Treść odpowiedzi:\", response.text)\n",
        "        return None\n",
        "\n",
        "def extract_hotspots_values_sequences(sequences):\n",
        "    \"\"\"\n",
        "    Extracts numerical hotspot values for each sequence from the HTML response of the submitted sequences.\n",
        "\n",
        "    Args:\n",
        "        sequences (list of str): List of sequences to be analyzed.\n",
        "\n",
        "    Returns:\n",
        "        list of list of float: A nested list where each inner list contains hotspot values\n",
        "                               for the corresponding input sequence.\n",
        "    \"\"\"\n",
        "    html_results = submit_sequences(sequences)\n",
        "    if html_results:\n",
        "        soup = BeautifulSoup(html_results, 'html.parser')\n",
        "\n",
        "        results = []\n",
        "        table = soup.find('table')\n",
        "        if not table:\n",
        "            print(\"No table found in the HTML response.\")\n",
        "            return []\n",
        "\n",
        "        tbody = table.find('tbody')\n",
        "        if not tbody:\n",
        "            print(\"No tbody found in the table.\")\n",
        "            return []\n",
        "\n",
        "        tr1 = tbody.find('tr')\n",
        "        if not tr1:\n",
        "            print(\"No tr found in the tbody.\")\n",
        "            return []\n",
        "\n",
        "        tbodys = tr1.find_all('tbody')\n",
        "        for index, tbody in enumerate(tbodys):\n",
        "            if not (index == 0 or index == len(tbodys) - 1):  # Ominięcie pierwszego i ostatniego\n",
        "                list = []\n",
        "                tds = tbody.find_all('td')\n",
        "                for td in tds:\n",
        "                    cell_text = td.get_text(strip=True)\n",
        "                    try:\n",
        "                        value = float(cell_text)\n",
        "                        if len(list) < 9:\n",
        "                            list.append(value)\n",
        "                    except ValueError:\n",
        "                        # Skip cells that do not contain numerical data\n",
        "                        continue\n",
        "                if len(list) < 9:\n",
        "                    print(\"Warning: Less than 9 values found.\")\n",
        "                results.append(list)\n",
        "\n",
        "\n",
        "        if len(results) != len(sequences):\n",
        "            print(\"Warning: Results and sequences lenghts missmatch.\")\n",
        "\n",
        "        return results\n",
        "    else:\n",
        "        return []\n",
        "\n",
        "\n",
        "# Example usage\n",
        "sequences = [\n",
        "    \"ATCGATCGATCG\",\n",
        "    \"GCTAGCTAGCTA\",\n",
        "    \"TTAGGCCTAGGA\"\n",
        "]\n",
        "\n",
        "results = extract_hotspots_values_sequences(sequences)\n",
        "\n",
        "#print(results)"
      ],
      "metadata": {
        "id": "ztCkT4tPSyOI"
      },
      "execution_count": null,
      "outputs": []
    },
    {
      "cell_type": "markdown",
      "source": [
        "#### Zapis do pliku / Saving to file"
      ],
      "metadata": {
        "id": "TWe5BrbzI0XA"
      }
    },
    {
      "cell_type": "code",
      "source": [
        "#output_file = '/training_data.xlsx'\n",
        "#df_result.to_excel(output_file, index=False)\n",
        "\n",
        "#print(df_result)"
      ],
      "metadata": {
        "id": "Of42dUroI4Jf"
      },
      "execution_count": null,
      "outputs": []
    },
    {
      "cell_type": "markdown",
      "source": [
        "#### Mapowanie nieznanych aminokwasów / Mapping unknown amino acids"
      ],
      "metadata": {
        "id": "Ox2XclURIQgd"
      }
    },
    {
      "cell_type": "code",
      "source": [
        "amino_acid_map = {\n",
        "    'X': 'A',\n",
        "    'U': 'C',\n",
        "    'B': 'D',\n",
        "    'Z': 'E',\n",
        "    'O': 'K'\n",
        "}\n",
        "\n",
        "valid_amino_acids = set(\"ACDEFGHIKLMNPQRSTVWY\")\n",
        "\n",
        "def clean_and_map_sequence(sequence):\n",
        "    \"\"\"\n",
        "    Cleans and maps sequences to valid amino acids.\n",
        "\n",
        "    Args:\n",
        "        sequence (str): The input protein sequence as a string.\n",
        "\n",
        "    Returns:\n",
        "        str: The cleaned and mapped sequence.\n",
        "    \"\"\"\n",
        "    return ''.join([\n",
        "        amino_acid_map.get(aa, aa) if aa in amino_acid_map or aa in valid_amino_acids else ''\n",
        "        for aa in sequence\n",
        "    ])"
      ],
      "metadata": {
        "id": "3DZ-8fGQIXTl"
      },
      "execution_count": null,
      "outputs": []
    },
    {
      "cell_type": "markdown",
      "source": [
        "#### Funkcja zbiorcza z zapisem do pliku / Aggregate function with file output"
      ],
      "metadata": {
        "id": "urJhUSXdOBb4"
      }
    },
    {
      "cell_type": "code",
      "source": [
        "def process_sequences(df, output_file):\n",
        "    \"\"\"\n",
        "    Process a DataFrame containing sequences, performing various biochemical calculations,\n",
        "    and save the results to an output file.\n",
        "\n",
        "    Args:\n",
        "        df (pd.DataFrame): A DataFrame containing at least one column 'sequence' with protein sequences.\n",
        "        output_file (str): The path where the output Excel file should be saved.\n",
        "\n",
        "    Returns:\n",
        "        None\n",
        "    \"\"\"\n",
        "\n",
        "    if 'sequence' not in df.columns:\n",
        "        raise ValueError(\"Input DataFrame must contain a 'sequence' column.\")\n",
        "\n",
        "    # Step 1: Calculate isoelectric point\n",
        "    df['isoelectric_point'] = df['sequence'].apply(calculate_isoelectric_point)\n",
        "\n",
        "    # Step 2: Calculate charge vector for pH range 4-9\n",
        "    df['charge_vector'] = df['sequence'].apply(calculate_charge_vector)\n",
        "\n",
        "    # Step 3: Calculate charge matrix for fragments of the sequence\n",
        "    df['charge_matrix'] = df['sequence'].apply(calculate_charge_matrix)\n",
        "\n",
        "    # Step 4: Calculate secondary structure fractions (Helix, Turn, Sheet)\n",
        "    df['secondary_structure'] = df['sequence'].apply(calculate_secondary_structure_fractions)\n",
        "\n",
        "    # Step 5: Calculate hydrophobicity\n",
        "    df['hydrophobicity'] = df['sequence'].apply(calculate_hydrophobicity)\n",
        "\n",
        "    # Step 6: Calculate hydrophobicity vector for sequence fragments\n",
        "    df['hydrophobicity_vector'] = df['sequence'].apply(calculate_hydrophobicity_vector)\n",
        "\n",
        "    # Step 7: Extract hotspot values using external form submission\n",
        "    df['hot_spots_vector'] = df['sequence'].apply(extract_hotspots_values)\n",
        "\n",
        "    # Step 8: Save the final DataFrame to an Excel file\n",
        "    df.to_excel(output_file, index=False)\n",
        "    print(f\"Data processing completed and saved to: {output_file}\")"
      ],
      "metadata": {
        "id": "AIDawc3LOEKw"
      },
      "execution_count": null,
      "outputs": []
    },
    {
      "cell_type": "markdown",
      "source": [
        "### Funkcja zbiorcza dla pojedynczej sekwencji / Aggregate function for single sequence"
      ],
      "metadata": {
        "id": "s76P8Z0XEFRM"
      }
    },
    {
      "cell_type": "code",
      "source": [
        "def process_sequence_single(sequence):\n",
        "    \"\"\"\n",
        "    Process a protein sequence, performing various biochemical calculations,\n",
        "    and return a combined feature matrix.\n",
        "\n",
        "    Args:\n",
        "        sequence (str): A string containing a protein sequence.\n",
        "\n",
        "    Returns:\n",
        "        np.ndarray: A NumPy array containing combined feature matrix.\n",
        "    \"\"\"\n",
        "\n",
        "    if not isinstance(sequence, str):\n",
        "        raise ValueError(\"Input must be a string containing a protein sequence.\")\n",
        "\n",
        "    sequence = clean_and_map_sequence(sequence)\n",
        "\n",
        "    # Step 0: Create DataFrame from the sequence\n",
        "    df = pd.DataFrame({'sequence': [sequence]})\n",
        "\n",
        "    # Step 1: Calculate isoelectric point\n",
        "    df['isoelectric_point'] = df['sequence'].apply(calculate_isoelectric_point)\n",
        "\n",
        "    # Step 2: Calculate charge vector for pH range 4-9\n",
        "    df['charge_vector'] = df['sequence'].apply(calculate_charge_vector)\n",
        "\n",
        "    # Step 3: Calculate charge matrix for fragments of the sequence\n",
        "    df['charge_matrix'] = df['sequence'].apply(calculate_charge_matrix)\n",
        "\n",
        "    # Step 4: Calculate secondary structure fractions (Helix, Turn, Sheet)\n",
        "    df['secondary_structure'] = df['sequence'].apply(calculate_secondary_structure_fractions)\n",
        "\n",
        "    # Step 5: Calculate hydrophobicity\n",
        "    df['hydrophobicity'] = df['sequence'].apply(calculate_hydrophobicity)\n",
        "\n",
        "    # Step 6: Calculate hydrophobicity vector for sequence fragments\n",
        "    df['hydrophobicity_vector'] = df['sequence'].apply(calculate_hydrophobicity_vector)\n",
        "\n",
        "    # Step 7: Extract hotspot values using external form submission\n",
        "    df['hot_spots_vector'] = df['sequence'].apply(extract_hotspots_values)\n",
        "\n",
        "    # Step 8: Convert columns to numpy arrays\n",
        "    isoelectric_point = df['isoelectric_point'].to_numpy().reshape(-1, 1)\n",
        "    hydrophobicity = df['hydrophobicity'].to_numpy().reshape(-1, 1)\n",
        "\n",
        "    def parse_vector(x):\n",
        "        if isinstance(x, str):\n",
        "            return np.fromstring(x.strip('array([])').replace('\\n', ''), sep=', ')\n",
        "        return np.array(x)\n",
        "\n",
        "    df['charge_vector'] = df['charge_vector'].apply(parse_vector)\n",
        "    df['secondary_structure'] = df['secondary_structure'].apply(parse_vector)\n",
        "    df['hot_spots_vector'] = df['hot_spots_vector'].apply(parse_vector)\n",
        "\n",
        "    charge_vector = np.array([np.array(x) for x in df['charge_vector']])\n",
        "    secondary_structure = np.array([np.array(x) for x in df['secondary_structure']])\n",
        "    hot_spots_vector = np.array([np.array(x) for x in df['hot_spots_vector']])\n",
        "\n",
        "    # Step 9: Combine features into a single array\n",
        "    combined_features = np.concatenate((\n",
        "        isoelectric_point,\n",
        "        hydrophobicity,\n",
        "        charge_vector,\n",
        "        secondary_structure,\n",
        "        hot_spots_vector\n",
        "    ), axis=1)\n",
        "\n",
        "    combined_features = combined_features.astype(np.float32)\n",
        "\n",
        "    return combined_features\n",
        "\n",
        "combined_features = process_sequence_single(\"RHVHLRARASGSARIYQAGRDQHITER\")\n",
        "print(combined_features)"
      ],
      "metadata": {
        "colab": {
          "base_uri": "https://localhost:8080/"
        },
        "id": "gBMLBOczEDzJ",
        "outputId": "3887bc5e-2447-459d-98c5-d52a3d9d6ad5"
      },
      "execution_count": null,
      "outputs": [
        {
          "output_type": "stream",
          "name": "stdout",
          "text": [
            "[[ 1.1705283e+01 -1.1407408e+00  8.4973450e+00  7.0674934e+00\n",
            "   5.4767504e+00  4.0244966e+00  3.2585604e+00  2.9366555e+00\n",
            "   2.2222222e-01  1.8518518e-01  2.2222222e-01 -3.8600001e-01\n",
            "   0.0000000e+00  0.0000000e+00  9.4099998e-01  0.0000000e+00\n",
            "  -8.8170004e+00  3.5000000e-02  0.0000000e+00 -3.6599998e+01]]\n"
          ]
        }
      ]
    },
    {
      "cell_type": "markdown",
      "source": [
        "### Funkcja zbiorcza dla listy sekwencji / Aggregate function for list of sequences"
      ],
      "metadata": {
        "id": "hslXlWz8zh6l"
      }
    },
    {
      "cell_type": "code",
      "source": [
        "def process_sequences(sequences):\n",
        "    \"\"\"\n",
        "    Process a list of protein sequences, performing various biochemical calculations,\n",
        "    and return a list of combined feature matrices.\n",
        "\n",
        "    Args:\n",
        "        sequences (list): A list of strings, each containing a protein sequence.\n",
        "\n",
        "    Returns:\n",
        "        list: A list of NumPy arrays, each containing a combined feature matrix for a sequence.\n",
        "    \"\"\"\n",
        "    if not isinstance(sequences, list) or not all(isinstance(seq, str) for seq in sequences):\n",
        "        raise ValueError(\"Input must be a list of strings containing protein sequences.\")\n",
        "\n",
        "    combined_feature_matrices = []\n",
        "    hotspots = extract_hotspots_values_sequences(sequences)\n",
        "    if len(hotspots) != len(sequences):\n",
        "        print(\"Warning: Results and sequences lenghts missmatch.\")\n",
        "        return []\n",
        "    for idx, sequence in enumerate(sequences):\n",
        "        sequence = clean_and_map_sequence(sequence)\n",
        "        # Step 0: Create DataFrame from the sequence\n",
        "        df = pd.DataFrame({'sequence': [sequence]})\n",
        "\n",
        "        # Step 1: Calculate isoelectric point\n",
        "        df['isoelectric_point'] = df['sequence'].apply(calculate_isoelectric_point)\n",
        "\n",
        "        # Step 2: Calculate charge vector for pH range 4-9\n",
        "        df['charge_vector'] = df['sequence'].apply(calculate_charge_vector)\n",
        "\n",
        "        # Step 3: Calculate charge matrix for fragments of the sequence\n",
        "        df['charge_matrix'] = df['sequence'].apply(calculate_charge_matrix)\n",
        "\n",
        "        # Step 4: Calculate secondary structure fractions (Helix, Turn, Sheet)\n",
        "        df['secondary_structure'] = df['sequence'].apply(calculate_secondary_structure_fractions)\n",
        "\n",
        "        # Step 5: Calculate hydrophobicity\n",
        "        df['hydrophobicity'] = df['sequence'].apply(calculate_hydrophobicity)\n",
        "\n",
        "        # Step 6: Calculate hydrophobicity vector for sequence fragments\n",
        "        df['hydrophobicity_vector'] = df['sequence'].apply(calculate_hydrophobicity_vector)\n",
        "\n",
        "        # Step 7: Extract hotspot values using external form submission\n",
        "\n",
        "        # Step 8: Convert columns to numpy arrays\n",
        "        isoelectric_point = df['isoelectric_point'].to_numpy().reshape(-1, 1)\n",
        "        hydrophobicity = df['hydrophobicity'].to_numpy().reshape(-1, 1)\n",
        "\n",
        "        def parse_vector(x):\n",
        "            if isinstance(x, str):\n",
        "                return np.fromstring(x.strip('array([])').replace('\\n', ''), sep=', ')\n",
        "            return np.array(x)\n",
        "\n",
        "        df['charge_vector'] = df['charge_vector'].apply(parse_vector)\n",
        "        df['secondary_structure'] = df['secondary_structure'].apply(parse_vector)\n",
        "\n",
        "        charge_vector = np.array([np.array(x) for x in df['charge_vector']])\n",
        "        secondary_structure = np.array([np.array(x) for x in df['secondary_structure']])\n",
        "        hot_spots_vector = [np.array(hotspots[idx])]\n",
        "\n",
        "        # Step 9: Combine features into a single array\n",
        "        combined_features = np.concatenate((\n",
        "            isoelectric_point,\n",
        "            hydrophobicity,\n",
        "            charge_vector,\n",
        "            secondary_structure,\n",
        "            hot_spots_vector\n",
        "        ), axis=1)\n",
        "\n",
        "        combined_features = combined_features.astype(np.float32)\n",
        "        combined_feature_matrices.append(combined_features)\n",
        "\n",
        "    return np.array(combined_feature_matrices)\n",
        "\n",
        "#print(process_sequences([\"RHVHLRARASGSARIYQAGRDQHITER\", \"RHVHLRARASGSARIYQAGRDQHITER\"]))"
      ],
      "metadata": {
        "id": "EZ8PfJfRzm3i"
      },
      "execution_count": null,
      "outputs": []
    }
  ]
}